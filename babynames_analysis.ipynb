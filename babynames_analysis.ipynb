{
 "cells": [
  {
   "cell_type": "markdown",
   "metadata": {},
   "source": [
    "# Baby Name Analysis"
   ]
  },
  {
   "cell_type": "markdown",
   "metadata": {},
   "source": [
    "## Importing libraries and functions"
   ]
  },
  {
   "cell_type": "code",
   "execution_count": 1,
   "metadata": {},
   "outputs": [],
   "source": [
    "import pandas as pd\n",
    "import glob\n",
    "import os\n",
    "import re\n",
    "# from bokeh.plotting import figure, output_file, show\n",
    "# from bokeh.models import ColumnDataSource, Legend, HoverTool\n",
    "# from bokeh.io import output_file, show, save\n",
    "# from bokeh.layouts import column, gridplot\n",
    "# import itertools\n",
    "# from bokeh.palettes import Dark2_5 as palette\n",
    "import matplotlib.pyplot as plt\n",
    "# import matplotlib as mpl\n",
    "\n",
    "# Read multiple files into one dataframe whilst adding custom columns\n",
    "def my_csv_reader(path, year):\n",
    "    d = pd.read_csv(path, names = ['Name', 'Gender', 'Quantity'] )\n",
    "    d['Year'] = year # adding column for multi/single thread\n",
    "    return d\n",
    "\n",
    "    d = pd.read_csv(path, )\n",
    "\n",
    "def natural_sort_key2(s):\n",
    "    \"\"\"\n",
    "    This function provides natural sorting of values\n",
    "    Adapted from: Jeff Atwood (https://blog.codinghorror.com/sorting-for-humans-natural-sort-order/)\n",
    "    \"\"\"\n",
    "    return [int(text) if text.isdigit() else text.lower() for text in re.split(re.compile('([0-9]+)'),s)]"
   ]
  },
  {
   "cell_type": "markdown",
   "metadata": {},
   "source": [
    "## Load data   "
   ]
  },
  {
   "cell_type": "code",
   "execution_count": 2,
   "metadata": {},
   "outputs": [
    {
     "name": "stdout",
     "output_type": "stream",
     "text": [
      "national data import complete\n",
      "done\n"
     ]
    }
   ],
   "source": [
    "years = list(range(1880, 2019, 1))\n",
    "# print(years)\n",
    "\n",
    "df = pd.DataFrame()\n",
    "\n",
    "'''Import national data'''\n",
    "path_base = 'namesnational' # use your base path\n",
    "# print(path_base)\n",
    "# path_sys = os.path.join(path_base, 'XPS-ICL-'+ str(sys), 'cb15', '1t')\n",
    "# print(path_sys)\n",
    "all_files = glob.glob(os.path.join('namesnational', \"*.txt\"))\n",
    "all_files = sorted(all_files, key=natural_sort_key2)\n",
    "# print(all_files)\n",
    "year_index = 0\n",
    "for f in all_files:\n",
    "#     print('year_index', year_index)\n",
    "    df = pd.concat([df, my_csv_reader(f, years[year_index])], ignore_index = True)\n",
    "#     print('year', years[year_index], 'added to the data frame')\n",
    "    year_index += 1\n",
    "print('national data import complete')\n",
    "          \n",
    "print('done')\n",
    "\n",
    "#print(df.columns)\n",
    "#df.head()\n",
    "#df.tail()"
   ]
  },
  {
   "cell_type": "markdown",
   "metadata": {},
   "source": [
    "# Choose a name"
   ]
  },
  {
   "cell_type": "code",
   "execution_count": 49,
   "metadata": {},
   "outputs": [],
   "source": [
    "n = 'Robert'\n",
    "birth_year = 1966"
   ]
  },
  {
   "cell_type": "markdown",
   "metadata": {},
   "source": [
    "## Pull out just the rows with specific name listed"
   ]
  },
  {
   "cell_type": "code",
   "execution_count": 50,
   "metadata": {},
   "outputs": [
    {
     "name": "stdout",
     "output_type": "stream",
     "text": [
      "Number of M Robert's born since 1880 = 4820129\n",
      "Number of M Robert's born in 1966 = 59330\n",
      "Number of M Robert's born since 1966 = 1261631\n",
      "Number of F Robert's born since 1880 = 20099\n",
      "Number of F Robert's born in 1966 = 251\n",
      "Number of F Robert's born since 1966 = 6440\n"
     ]
    }
   ],
   "source": [
    "genders = ['M', 'F']\n",
    "df_onename = [0, 1]\n",
    "df_onename_since = [0, 1]\n",
    "for (g, i) in zip(genders, range(len(df_onename))):\n",
    "#     print('g', g)\n",
    "#     print('i', i)\n",
    "    df_onename[i] = df.loc[(df['Name'] == n) & (df['Gender'] == g) ]\n",
    "    export_csv = df_onename[i].to_csv ('numOf' + n +'sTable_' + g + '.csv', index = None, header=True) \n",
    "    tot_num = df_onename[i]['Quantity'].sum(axis = 0, skipna = True)\n",
    "    print('Number of '+ g + ' ' + n + \"'s born since 1880 =\", tot_num)\n",
    "    if ((df['Name'] == n) & (df['Gender'] == g) & (df['Year'] == birth_year)).any():\n",
    "        num_in_birth_year_df = df.loc[(df['Name'] == n) & (df['Gender'] == g) & (df['Year'] == birth_year)]\n",
    "#         print(num_in_birth_year_df.iloc[0]['Quantity'])\n",
    "        num_in_birth_year = num_in_birth_year_df.iloc[0]['Quantity']\n",
    "#         print(num_in_birth_year)\n",
    "    else:\n",
    "        num_in_birth_year = '< 5'\n",
    "    print('Number of '+ g + ' ' + n + \"'s born in \" + str(birth_year) + ' = ' + str(num_in_birth_year))\n",
    "    df_onename_since[i] = df.loc[(df['Name'] == n) & (df['Gender'] == g) & (df['Year'] > birth_year) ]\n",
    "    tot_num_since = df_onename_since[i]['Quantity'].sum(axis = 0, skipna = True)\n",
    "    print('Number of '+ g + ' ' + n + \"'s born since \" + str(birth_year) + ' = ' + str(tot_num_since))"
   ]
  },
  {
   "cell_type": "markdown",
   "metadata": {},
   "source": [
    "## Plot name quantity versus year"
   ]
  },
  {
   "cell_type": "code",
   "execution_count": 51,
   "metadata": {},
   "outputs": [
    {
     "name": "stdout",
     "output_type": "stream",
     "text": [
      "done\n"
     ]
    },
    {
     "data": {
      "image/png": "[encoded data removed]",
      "text/plain": [
       "<Figure size 1440x720 with 1 Axes>"
      ]
     },
     "metadata": {
      "needs_background": "light"
     },
     "output_type": "display_data"
    }
   ],
   "source": [
    "# plt.ioff() # this prevents the plots from rendering below\n",
    "\n",
    "fig, ax = plt.subplots()\n",
    "\n",
    "if not df_onename[0].empty:\n",
    "    ax = df_onename[0].plot(x = \"Year\", y = \"Quantity\", \n",
    "                                 figsize=(20,10), fontsize=18, \n",
    "                                 legend = False, ax=ax, \n",
    "                                 linestyle='-', marker='o', color='blue')\n",
    "if not df_onename[1].empty:\n",
    "    df_onename[1].plot(x = \"Year\", y = \"Quantity\", \n",
    "                                 figsize=(20,10), fontsize=18, \n",
    "                                 legend = False, ax=ax, \n",
    "                                 linestyle='-', marker='o', color='pink')\n",
    "# ax.minorticks_on()\n",
    "ax.set_title('Quantity of '+ n +\"'s per year\", fontsize=18)\n",
    "ax.set_xlabel(\"Year\", fontsize=18)\n",
    "ax.set_ylabel(\"Number of babies\", fontsize=18)\n",
    "ax.figure.savefig(n + 'sPerYear.png', format = \"PNG\")\n",
    "ax.grid('on', which='minor', axis='x' )\n",
    "ax.grid('on', which='major', axis='x' )\n",
    "ax.grid('on', which='minor', axis='y' )\n",
    "ax.grid('on', which='major', axis='y' )\n",
    "ax.set_ylim(ymin=0)\n",
    "print('done')\n",
    "\n",
    "\n",
    "# df.plot(kind='scatter', x='GDP_per_capita', y='life_expectancy', ax=ax)\n",
    "\n",
    "# # Don't allow the axis to be on top of your data\n",
    "# ax.set_axisbelow(True)\n",
    "\n",
    "# # Turn on the minor TICKS, which are required for the minor GRID\n",
    "# ax.minorticks_on()\n",
    "\n",
    "# # Customize the major grid\n",
    "ax.grid(which='major', linestyle=':', linewidth='0.5', color='gray')\n",
    "# # Customize the minor grid\n",
    "ax.grid(which='minor', linestyle=':', linewidth='0.5', color='black')"
   ]
  },
  {
   "cell_type": "markdown",
   "metadata": {},
   "source": [
    "## Least popular boy baby names"
   ]
  },
  {
   "cell_type": "code",
   "execution_count": 31,
   "metadata": {},
   "outputs": [
    {
     "name": "stdout",
     "output_type": "stream",
     "text": [
      "Names sorted by the name:\n",
      "        Name Gender  Quantity  Year\n",
      "2006   Aabir      M         5  2018\n",
      "0     Aadrit      M         5  2017\n",
      "1      Aagam      M         5  2017\n",
      "2007   Aagam      M         5  2018\n",
      "2     Aaidyn      M         5  2017\n",
      "...      ...    ...       ...   ...\n",
      "3927   Zyran      M         5  2018\n",
      "3928   Zyrie      M         5  2018\n",
      "2005   Zyrie      M         5  2017\n",
      "3929   Zyron      M         5  2018\n",
      "3930   Zzyzx      M         5  2018\n",
      "\n",
      "[3931 rows x 4 columns]\n",
      "\n",
      "Least common names across year range summed together.\n",
      "So if a name was given to 5 babies for multiple years, the sum should be presented:\n",
      "         Name  Quantity\n",
      "0       Aabir         5\n",
      "1      Aadrit         5\n",
      "2       Aagam        10\n",
      "3      Aaidyn         5\n",
      "4     Aakarsh         5\n",
      "...       ...       ...\n",
      "3702    Zylis         5\n",
      "3703    Zyran         5\n",
      "3704    Zyrie        10\n",
      "3705    Zyron         5\n",
      "3706    Zzyzx         5\n",
      "\n",
      "[3707 rows x 2 columns]\n",
      "\n",
      "Final list of least common names given across the year range:\n",
      "      index     Name  Quantity\n",
      "0         0    Aabir         5\n",
      "1         1   Aadrit         5\n",
      "2         3   Aaidyn         5\n",
      "3         4  Aakarsh         5\n",
      "4         5    Aakif         5\n",
      "...     ...      ...       ...\n",
      "3478   3701    Zylin         5\n",
      "3479   3702    Zylis         5\n",
      "3480   3703    Zyran         5\n",
      "3481   3705    Zyron         5\n",
      "3482   3706    Zzyzx         5\n",
      "\n",
      "[3483 rows x 3 columns]\n",
      "Final list of least common names given across year range starting with the letter: J\n",
      "      index     Name  Quantity\n",
      "1371   1470   Jaaire         5\n",
      "1372   1471     Jaan         5\n",
      "1373   1472  Jabdiel         5\n",
      "1374   1473    Jabel         5\n",
      "1375   1474    Jabre         5\n",
      "...     ...      ...       ...\n",
      "1663   1786       Jw         5\n",
      "1664   1787    Jyden         5\n",
      "1665   1788    Jymir         5\n",
      "1666   1789    Jyree         5\n",
      "1667   1790   Jysiah         5\n",
      "\n",
      "[297 rows x 3 columns]\n"
     ]
    }
   ],
   "source": [
    "yr_beg = 2017\n",
    "yr_end = 2018\n",
    "g = 'M'\n",
    "df_lp_yrs = list(range(yr_beg, yr_end+1)) # year range to sort thru for least popular names\n",
    "# print('Year range to investigate:')\n",
    "# print(df_lp_yrs)\n",
    "# print()\n",
    "\n",
    "df_lp = pd.DataFrame()\n",
    "for year in df_lp_yrs:\n",
    "    df_lp = pd.concat([df_lp, df.loc[(df['Gender'] == g) & (df['Quantity'] == 5) & (df['Year'] == year)]], ignore_index = True) \n",
    "export_csv = df_lp.to_csv('LeastPopular_'+ g + '_NamesFrom' + str(yr_beg) + 'to' + str(yr_end) + 'sortedByYear.csv', index = None, header=True) \n",
    "# print('Names given to only 5 babies in the years ' + str(yr_beg) + ' to ' + str(yr_end) + ':')\n",
    "# print(df_lp)\n",
    "# print()\n",
    "\n",
    "## Sort by name\n",
    "df_lp_sorted_by_name = df_lp.sort_values(['Name'], ascending=True)\n",
    "print('Names sorted by the name:')\n",
    "print(df_lp_sorted_by_name)\n",
    "print()\n",
    "export_csv = df_lp_sorted_by_name.to_csv('LeastPopular_'+ g + '_NamesFrom' + str(yr_beg) + 'to' + str(yr_end) + 'sortedByName.csv', index = None, header=True) \n",
    "\n",
    "## Combine repeated names and sum up the total\n",
    "df_lp_tot = df_lp.groupby(['Name'])['Quantity'].sum().to_frame(name = 'Quantity').reset_index()\n",
    "print('Least common names across year range summed together.')\n",
    "print('So if a name was given to 5 babies for multiple years, the sum should be presented:')\n",
    "print(df_lp_tot)\n",
    "print()\n",
    "\n",
    "# df_lp_tot.head()\n",
    "# Reduce list down to those will only 5 across all years\n",
    "df_lp_tot_min = df_lp_tot.loc[(df_lp_tot['Quantity'] == 5)].reset_index()\n",
    "print('Final list of least common names given across the year range:')\n",
    "print(df_lp_tot_min)\n",
    "export_csv = df_lp_tot_min.to_csv('LeastPopular_'+ g + '_NamesFrom' + str(yr_beg) + 'to' + str(yr_end) + '.csv', index = None, header=True) \n",
    "\n",
    "## Reduce list down to those only starting with J\n",
    "name_start = 'J'\n",
    "df_lp_tot_min_name_start = df_lp_tot_min[df_lp_tot_min['Name'].str.match(name_start)]\n",
    "print('Final list of least common names given across year range starting with the letter: ' + name_start )\n",
    "print(df_lp_tot_min_name_start)\n",
    "export_csv = df_lp_tot_min_name_start.to_csv('LeastPopular_'+ g + '_NamesFrom' + str(yr_beg) + 'to' + str(yr_end) + 'StartingWithTheLetter' + name_start + '.csv', index = None, header=True) \n",
    "\n",
    "\n",
    "# data[\"College\"].str.startswith(search) "
   ]
  },
  {
   "cell_type": "code",
   "execution_count": 9,
   "metadata": {},
   "outputs": [
    {
     "data": {
      "text/html": [
       "<div>\n",
       "<style scoped>\n",
       "    .dataframe tbody tr th:only-of-type {\n",
       "        vertical-align: middle;\n",
       "    }\n",
       "\n",
       "    .dataframe tbody tr th {\n",
       "        vertical-align: top;\n",
       "    }\n",
       "\n",
       "    .dataframe thead th {\n",
       "        text-align: right;\n",
       "    }\n",
       "</style>\n",
       "<table border=\"1\" class=\"dataframe\">\n",
       "  <thead>\n",
       "    <tr style=\"text-align: right;\">\n",
       "      <th></th>\n",
       "      <th>Mary</th>\n",
       "      <th>F</th>\n",
       "      <th>6919</th>\n",
       "    </tr>\n",
       "  </thead>\n",
       "  <tbody>\n",
       "    <tr>\n",
       "      <td>0</td>\n",
       "      <td>Anna</td>\n",
       "      <td>F</td>\n",
       "      <td>2698</td>\n",
       "    </tr>\n",
       "    <tr>\n",
       "      <td>1</td>\n",
       "      <td>Emma</td>\n",
       "      <td>F</td>\n",
       "      <td>2034</td>\n",
       "    </tr>\n",
       "    <tr>\n",
       "      <td>2</td>\n",
       "      <td>Elizabeth</td>\n",
       "      <td>F</td>\n",
       "      <td>1852</td>\n",
       "    </tr>\n",
       "    <tr>\n",
       "      <td>3</td>\n",
       "      <td>Margaret</td>\n",
       "      <td>F</td>\n",
       "      <td>1658</td>\n",
       "    </tr>\n",
       "    <tr>\n",
       "      <td>4</td>\n",
       "      <td>Minnie</td>\n",
       "      <td>F</td>\n",
       "      <td>1653</td>\n",
       "    </tr>\n",
       "  </tbody>\n",
       "</table>\n",
       "</div>"
      ],
      "text/plain": [
       "        Mary  F  6919\n",
       "0       Anna  F  2698\n",
       "1       Emma  F  2034\n",
       "2  Elizabeth  F  1852\n",
       "3   Margaret  F  1658\n",
       "4     Minnie  F  1653"
      ]
     },
     "execution_count": 9,
     "metadata": {},
     "output_type": "execute_result"
    }
   ],
   "source": [
    "import pandas as pd\n",
    "\n",
    "# National Data\n",
    "natdata = pd.read_csv('namesnational/yob1880.txt')\n",
    "natdata = pd.read_csv('namesnational/yob1881.txt')\n",
    "\n",
    "# State Data\n",
    "statedata = pd.read_csv('namesbystate/AK.txt')\n",
    "statedata2 = pd.read_csv('namesbystate/AL.txt')\n",
    "\n",
    "# Territory Data\n",
    "terrdata = pd.read_csv('namesbyterritory/PR.txt')\n",
    "terrdata2 = pd.read_csv('namesbyterritory/TR.txt')\n",
    "\n",
    "natdata.head()\n",
    "#statedata.head()\n",
    "#terrdata.head()"
   ]
  },
  {
   "cell_type": "code",
   "execution_count": null,
   "metadata": {},
   "outputs": [],
   "source": []
  }
 ],
 "metadata": {
  "kernelspec": {
   "display_name": "Python 3",
   "language": "python",
   "name": "python3"
  },
  "language_info": {
   "codemirror_mode": {
    "name": "ipython",
    "version": 3
   },
   "file_extension": ".py",
   "mimetype": "text/x-python",
   "name": "python",
   "nbconvert_exporter": "python",
   "pygments_lexer": "ipython3",
   "version": "3.7.4"
  }
 },
 "nbformat": 4,
 "nbformat_minor": 2
}
